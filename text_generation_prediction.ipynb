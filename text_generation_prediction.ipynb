{
 "cells": [
  {
   "cell_type": "code",
   "execution_count": 1,
   "metadata": {
    "id": "5emHeseBVMQa"
   },
   "outputs": [],
   "source": [
    "import numpy as np\n",
    "import tensorflow as tf\n",
    "from tensorflow.keras.layers import LSTM, Dense\n",
    "import re"
   ]
  },
  {
   "cell_type": "code",
   "execution_count": 2,
   "metadata": {},
   "outputs": [],
   "source": [
    "from tensorflow.compat.v1 import ConfigProto\n",
    "from tensorflow.compat.v1 import InteractiveSession\n",
    "\n",
    "config = ConfigProto()\n",
    "config.gpu_options.allow_growth = True\n",
    "session = InteractiveSession(config=config)"
   ]
  },
  {
   "cell_type": "code",
   "execution_count": 3,
   "metadata": {
    "id": "BsPHOG0eVRfS"
   },
   "outputs": [],
   "source": [
    "LAYER_COUNT = 4\n",
    "LSTM_DIM = 256\n",
    "TEXT_CLEANING_RE = \"[\\t\\n\\r_`]\"\n",
    "TEMPERATURE = 0.8"
   ]
  },
  {
   "cell_type": "code",
   "execution_count": 9,
   "metadata": {
    "id": "24zmK_OQVibw"
   },
   "outputs": [
    {
     "name": "stdout",
     "output_type": "stream",
     "text": [
      "63\n"
     ]
    }
   ],
   "source": [
    "\n",
    "with open(\"./data/complete_lotr_precleaned.txt\", \"rb\") as f:\n",
    "    text = f.read().decode(encoding='utf-8')\n",
    "\n",
    "text = re.sub(\" +\",\" \",text.lower())\n",
    "text = re.sub(TEXT_CLEANING_RE,\"\", text)    \n",
    "vocab = sorted(set(text))\n",
    "vocab_size = len(vocab)\n",
    "print(vocab_size)\n",
    "char_to_idx = {c:i for i,c in enumerate(vocab)}\n",
    "idx_to_char = {i:c for c,i in char_to_idx.items()}\n"
   ]
  },
  {
   "cell_type": "code",
   "execution_count": 10,
   "metadata": {
    "id": "MzCa723pg0LO"
   },
   "outputs": [],
   "source": [
    "filepath = \"model_weights_saved.hdf5\"\n",
    "\n",
    "testing_model = tf.keras.models.Sequential()\n",
    "for i in range(LAYER_COUNT):\n",
    "    testing_model.add(\n",
    "            LSTM(\n",
    "                LSTM_DIM, \n",
    "                return_sequences=True if (i!=(LAYER_COUNT-1)) else False,\n",
    "                batch_input_shape=(1, 1, vocab_size),\n",
    "                stateful=True\n",
    "            )\n",
    "        )\n",
    "testing_model.add(Dense(vocab_size, activation = 'softmax'))\n",
    "adam = tf.keras.optimizers.Adam(lr = 0.01)\n",
    "testing_model.compile(loss='categorical_crossentropy', optimizer=adam, metrics=['accuracy'])\n",
    "\n",
    "testing_model.load_weights(filepath)    "
   ]
  },
  {
   "cell_type": "code",
   "execution_count": 11,
   "metadata": {
    "id": "iW9EPc2ShX9D"
   },
   "outputs": [],
   "source": [
    "def gumbel_sample(probs, temperature = TEMPERATURE):\n",
    "  \"\"\"Helper function to sample an index from a probability array\"\"\"\n",
    "  # from fchollet/keras\n",
    "  probs = np.asarray(probs).astype('float64')\n",
    "  probs = np.log(probs) / temperature\n",
    "  exp_preds = np.exp(probs)\n",
    "  probs = exp_preds / np.sum(exp_preds)\n",
    "  probas = np.random.multinomial(1, probs, 1)\n",
    "  return np.argmax(probas)\n",
    "\n",
    "def predict_next_char(model, current_char):\n",
    "  x = np.zeros((1, 1, vocab_size))\n",
    "  x[:,:,char_to_idx[current_char]] = 1\n",
    "  y = model.predict(x, batch_size=1)\n",
    "  next_char_idx = gumbel_sample(y[0,:])\n",
    "  next_char = idx_to_char[next_char_idx]\n",
    "  return next_char\n",
    "\n",
    "def generate_text(model, seed, length):\n",
    "    \"\"\"Generate characters from a given seed\"\"\"\n",
    "    generated_text = seed\n",
    "    model.reset_states()\n",
    "    for c in seed[:-1]:\n",
    "        next_char = predict_next_char(model, c)\n",
    "    current_char = seed[-1]\n",
    "\n",
    "    for i in range(length - len(seed)):\n",
    "        next_char = predict_next_char(model, current_char)\n",
    "        current_char = next_char\n",
    "        generated_text += current_char\n",
    "    print(generated_text)\n"
   ]
  },
  {
   "cell_type": "code",
   "execution_count": 15,
   "metadata": {
    "colab": {
     "base_uri": "https://localhost:8080/"
    },
    "id": "mfRcNKYxm_h7",
    "outputId": "764518c4-e25c-4b45-926b-31de6c8e67bb"
   },
   "outputs": [
    {
     "name": "stdout",
     "output_type": "stream",
     "text": [
      "Temperature: 0.1 \n",
      "\n",
      "ane his way the land, in his side named. he saw before was great and dead vain there came to the hills of the hills of shadow to waited forth the world on himself to get out of bearer, there is not fa\n",
      "\n",
      "\n",
      "Temperature: 0.8 \n",
      "\n",
      "ane the days to come. it was spicions, and all kings and a mean dreads were grim and tarily and then he said: 'ghost that it were many!' said parting. 'well, but the bitter for the lord, and he did no\n",
      "\n",
      "\n",
      "Temperature: 1.0 \n",
      "\n",
      "aning the great winter, and he was a land; but and precious had grew at the numbering. in the stream and recuising the last was on the first release whire was ruled upon the mountain. the dúnch at the\n",
      "\n",
      "\n",
      "Temperature: 0.1 \n",
      "\n",
      "c ways. well so that i will can all the flits on the hobbits. or old first did in a chill. so ferniath was help that you, and frodo would not ask that you come to be for a long year to fire. but i had\n",
      "\n",
      "\n",
      "Temperature: 0.8 \n",
      "\n",
      "ced and sitting on the stars hidden called the light of winding. 'what did you make the simple swander towards all the east of many things,' said the work was as strangely. sam! they thought the histo\n",
      "\n",
      "\n",
      "Temperature: 1.0 \n",
      "\n",
      "ces they know that it was well. the third half stood now on the dwarf. the paths told its here of the other sleepy. she came always in pippin. but they were beyond him and closed after the windows at \n",
      "\n",
      "\n",
      "Temperature: 0.1 \n",
      "\n",
      "bfores of dark worldy children of their life of the shadows of a white great and heavy. and they seemed to himself. 'not if first! when that's the gate and house would be going to be abling, we can to\n",
      "\n",
      "\n",
      "Temperature: 0.8 \n",
      "\n",
      "bate one of the pass, they could never can hear the maggot of the shire concerning. the other there that was clearly his fingers when sam troubled goilous and with all white pobkeling from by the top \n",
      "\n",
      "\n",
      "Temperature: 1.0 \n",
      "\n",
      "band in the king. the hobbits had been from the shaven of the king that sam. 'and you shall have found the gates, frodo, i will nate been more than forward.' 'all sméagol! what don't the deal also was\n",
      "\n",
      "\n",
      "Temperature: 0.1 \n",
      "\n",
      "gery and in the fires and such helmous and a was followed the butterbur silver of the three of the east. 'well, i've gone you sign, but you all of it is nearly after a feel and some people! then all w\n",
      "\n",
      "\n",
      "Temperature: 0.8 \n",
      "\n",
      "ge, will pass it from the life and was scared at his horn and was or with command, and quiet about the old tower of the day. he had flowed on the country, and the table they had held all the fires sho\n",
      "\n",
      "\n",
      "Temperature: 1.0 \n",
      "\n",
      "geal and the poise of the darkness is not much to the best has one of the same things, and as that he had heaped in a while towards the four land and sam was a sam, and they ask there and which were s\n",
      "\n",
      "\n",
      "Temperature: 0.1 \n",
      "\n",
      "fest, and careful from the shire. we'll landel?' 'you and the shape, don't you wait ones. yet i don't wish and the hobbits turned. you may, mr. frodo.' 'the distance!' 'and i shall be to elendil,' sai\n",
      "\n",
      "\n",
      "Temperature: 0.8 \n",
      "\n",
      "fell, went out on the ooching. the sun come up and shire? he sat you far and fingers to see back with his frodo, and they were all with the leave. the still of the green history that are so.' 'it was \n",
      "\n",
      "\n",
      "Temperature: 1.0 \n",
      "\n",
      "fest in them; and in his arms were grieved through which whether he said the window of the city before he is not chared and he was after a by the second fear. he bore the best continuch in days, and t\n",
      "\n",
      "\n",
      "Temperature: 0.1 \n",
      "\n",
      "s up the elves. i think me have really been trying with a message.' 'i must have leave you?' said frodo. 'but beside you say the tower me and that you have been heart, sam's coming could have say, wou\n",
      "\n",
      "\n",
      "Temperature: 0.8 \n",
      "\n",
      "sd into the miller. sam had more of the jorb-army, so mithrandir. and he had we say, and these things at the great jencitit and silence. frodo looked up and are your rising them. and i have have left \n",
      "\n",
      "\n",
      "Temperature: 1.0 \n",
      "\n",
      "szer him, and when he had still in the fillen sparing from the legends. there are the high as a thing sam. sam is in a mark or dim them to the night's very sam. not the slain;' said gondor. 'at it's s\n",
      "\n",
      "\n"
     ]
    }
   ],
   "source": [
    "#generate_text(testing_model, seed = \"The ring\", length = 400)\n",
    "gen_text_length = 200\n",
    "seed_list = [\"a\",\"c\",\"b\",\"g\",\"f\",\"s\"]\n",
    "for starting in seed_list:\n",
    "    for temperature in [.1,.8,1.0]:\n",
    "        print(f\"Temperature: {temperature} \\n\")\n",
    "        generate_text(testing_model, seed = starting.lower(), length = gen_text_length)\n",
    "        print(\"\\n\")\n",
    "\n",
    "        "
   ]
  },
  {
   "cell_type": "code",
   "execution_count": null,
   "metadata": {},
   "outputs": [],
   "source": []
  }
 ],
 "metadata": {
  "colab": {
   "collapsed_sections": [],
   "name": "text_generation_prediction.ipynb",
   "provenance": []
  },
  "kernelspec": {
   "display_name": "Python 3",
   "language": "python",
   "name": "python3"
  },
  "language_info": {
   "codemirror_mode": {
    "name": "ipython",
    "version": 3
   },
   "file_extension": ".py",
   "mimetype": "text/x-python",
   "name": "python",
   "nbconvert_exporter": "python",
   "pygments_lexer": "ipython3",
   "version": "3.7.9"
  },
  "toc": {
   "base_numbering": 1,
   "nav_menu": {},
   "number_sections": true,
   "sideBar": true,
   "skip_h1_title": false,
   "title_cell": "Table of Contents",
   "title_sidebar": "Contents",
   "toc_cell": false,
   "toc_position": {},
   "toc_section_display": true,
   "toc_window_display": false
  }
 },
 "nbformat": 4,
 "nbformat_minor": 1
}
