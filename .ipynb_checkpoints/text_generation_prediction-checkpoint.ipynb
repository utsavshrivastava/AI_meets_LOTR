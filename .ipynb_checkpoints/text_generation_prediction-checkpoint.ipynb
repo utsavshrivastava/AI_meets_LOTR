{
 "cells": [
  {
   "cell_type": "code",
   "execution_count": 2,
   "metadata": {
    "id": "5emHeseBVMQa"
   },
   "outputs": [],
   "source": [
    "import numpy as np\n",
    "import tensorflow as tf\n",
    "from tensorflow.keras.layers import LSTM, Dense\n",
    "import re"
   ]
  },
  {
   "cell_type": "code",
   "execution_count": 3,
   "metadata": {},
   "outputs": [],
   "source": [
    "from tensorflow.compat.v1 import ConfigProto\n",
    "from tensorflow.compat.v1 import InteractiveSession\n",
    "\n",
    "config = ConfigProto()\n",
    "config.gpu_options.allow_growth = True\n",
    "session = InteractiveSession(config=config)"
   ]
  },
  {
   "cell_type": "code",
   "execution_count": 4,
   "metadata": {
    "id": "BsPHOG0eVRfS"
   },
   "outputs": [],
   "source": [
    "LAYER_COUNT = 4\n",
    "LSTM_DIM = 256\n",
    "TEXT_CLEANING_RE = \"[\\t\\n\\r_`]\"\n",
    "TEMPERATURE = 0.8"
   ]
  },
  {
   "cell_type": "code",
   "execution_count": 5,
   "metadata": {
    "id": "24zmK_OQVibw"
   },
   "outputs": [
    {
     "name": "stdout",
     "output_type": "stream",
     "text": [
      "63\n"
     ]
    }
   ],
   "source": [
    "\n",
    "with open(\"./data/complete_lotr_precleaned.txt\", \"rb\") as f:\n",
    "    text = f.read().decode(encoding='utf-8')\n",
    "\n",
    "text = re.sub(\" +\",\" \",text.lower())\n",
    "text = re.sub(TEXT_CLEANING_RE,\"\", text)    \n",
    "vocab = sorted(set(text))\n",
    "vocab_size = len(vocab)\n",
    "print(vocab_size)\n",
    "char_to_idx = {c:i for i,c in enumerate(vocab)}\n",
    "idx_to_char = {i:c for c,i in char_to_idx.items()}\n"
   ]
  },
  {
   "cell_type": "code",
   "execution_count": 6,
   "metadata": {
    "id": "MzCa723pg0LO"
   },
   "outputs": [],
   "source": [
    "filepath = \"model_weights_saved.hdf5\"\n",
    "\n",
    "testing_model = tf.keras.models.Sequential()\n",
    "for i in range(LAYER_COUNT):\n",
    "    testing_model.add(\n",
    "            LSTM(\n",
    "                LSTM_DIM, \n",
    "                return_sequences=True if (i!=(LAYER_COUNT-1)) else False,\n",
    "                batch_input_shape=(1, 1, vocab_size),\n",
    "                stateful=True\n",
    "            )\n",
    "        )\n",
    "testing_model.add(Dense(vocab_size, activation = 'softmax'))\n",
    "adam = tf.keras.optimizers.Adam(lr = 0.01)\n",
    "testing_model.compile(loss='categorical_crossentropy', optimizer=adam, metrics=['accuracy'])\n",
    "\n",
    "testing_model.load_weights(filepath)    "
   ]
  },
  {
   "cell_type": "code",
   "execution_count": 7,
   "metadata": {
    "id": "iW9EPc2ShX9D"
   },
   "outputs": [],
   "source": [
    "def gumbel_sample(probs, temperature = TEMPERATURE):\n",
    "  \"\"\"Helper function to sample an index from a probability array\"\"\"\n",
    "  # from fchollet/keras\n",
    "  probs = np.asarray(probs).astype('float64')\n",
    "  probs = np.log(probs) / temperature\n",
    "  exp_preds = np.exp(probs)\n",
    "  probs = exp_preds / np.sum(exp_preds)\n",
    "  probas = np.random.multinomial(1, probs, 1)\n",
    "  return np.argmax(probas)\n",
    "\n",
    "def predict_next_char(model, current_char):\n",
    "  x = np.zeros((1, 1, vocab_size))\n",
    "  x[:,:,char_to_idx[current_char]] = 1\n",
    "  y = model.predict(x, batch_size=1)\n",
    "  next_char_idx = gumbel_sample(y[0,:])\n",
    "  next_char = idx_to_char[next_char_idx]\n",
    "  return next_char\n",
    "\n",
    "def generate_text(model, seed, length):\n",
    "    \"\"\"Generate characters from a given seed\"\"\"\n",
    "    generated_text = seed\n",
    "    model.reset_states()\n",
    "    for c in seed[:-1]:\n",
    "        next_char = predict_next_char(model, c)\n",
    "    current_char = seed[-1]\n",
    "\n",
    "    for i in range(length - len(seed)):\n",
    "        next_char = predict_next_char(model, current_char)\n",
    "        current_char = next_char\n",
    "        generated_text += current_char\n",
    "    print(generated_text)\n"
   ]
  },
  {
   "cell_type": "code",
   "execution_count": 25,
   "metadata": {
    "colab": {
     "base_uri": "https://localhost:8080/"
    },
    "id": "mfRcNKYxm_h7",
    "outputId": "764518c4-e25c-4b45-926b-31de6c8e67bb"
   },
   "outputs": [
    {
     "name": "stdout",
     "output_type": "stream",
     "text": [
      "Temperature: 0.1 \n",
      "\n",
      "in the beginning that they were mostly a long land that behind were now much things were forgotten his hope, and the porch should see them down his grie with the cime from readfully, and the hobbits and cloud had come into the night. and he were used to a prowers, and talking with his backs. all som\n",
      "\n",
      "\n",
      "Temperature: 0.1 \n",
      "\n",
      "in the beginning came also, and with a battle, and the captins of the end, but the home their hand and the places of the next-gates of the broking and well-shiven from the forget, and he did never called by the hills. the king was kindly now that he walked they evening at the name of the city, a fro\n",
      "\n",
      "\n",
      "Temperature: 0.1 \n",
      "\n",
      "in the beginning of elden stay, lived, until there couldn't see there's soft to death. it had frodo's men of the silver sea. the engirest and sam was frodo to the sky, and the way of the west was soon the mine again, and still a hobbits began to the back of saruman to a perceive by the silence he wa\n",
      "\n",
      "\n",
      "Temperature: 0.1 \n",
      "\n",
      "in the beginning of the grass, and sam came bowing them, two deep clown and he was cleacing them for the arms, and the little head of the golden west first walked all the middle-hobbits, she stoep back and now of bright then and place on the king-change, and the chamber beside him! then the same and\n",
      "\n",
      "\n",
      "Temperature: 0.1 \n",
      "\n",
      "in the beginning were and jeaked to wonder along things known at the standing the mind-stone in the welling in a healing short in the window; but his head bright the sand field and resturned the mountain, but the vouck of the bankess were more country, that was a than over the light of a change and \n",
      "\n",
      "\n",
      "Temperature: 0.5 \n",
      "\n",
      "in the beginning of the tewards with the end of weather muttered, frodo stoped along the lightning of his hand unerched in the banner of the bridge. 'you shall be happening, still days, he like me or over you with your eyes first go now he lain and more what was only take, my sam's times. it was loo\n",
      "\n",
      "\n",
      "Temperature: 0.5 \n",
      "\n",
      "in the beginning and was gone. for the stone that he had been seldom to him by so the water than the delves that he was a mind would have part for some more a grave and really sure at you never passing to it: and i have been a scare, that for bowed. get but all across all the friends who may see men\n",
      "\n",
      "\n",
      "Temperature: 0.5 \n",
      "\n",
      "in the beginning of the walls of the fair deal rimb of bag end, and rising since the ashed the kind and that there was came for the floor, and gimli they were behold. the change of the hills were on the deal of the light was budny the new star that came on the three strength of the east. 'it's befor\n",
      "\n",
      "\n",
      "Temperature: 0.5 \n",
      "\n",
      "in the beginning along the world of men. then i will at the men and as he was not only before you, for all that shall saw the old time now. well, what will that were heard.' so he did not found them. so the shire of the black great keep began to the moriason of the worst from the world in his tree t\n",
      "\n",
      "\n",
      "Temperature: 0.5 \n",
      "\n",
      "in the beginning in with one foul easy, and yet only any water and the paths of the world and wild-ram and repreased to the dark time with with soft and fellows of adventures. 'well, the light was some night of the now, you say and down with their cheer. now you still have a great hand. but frodo sa\n",
      "\n",
      "\n",
      "Temperature: 0.8 \n",
      "\n",
      "in the beginning down frodo and all the shower and a miles and the hobbits and devices sat right and himself came to find the joy. and they came rangers, and he had come to look a bright not of wonder that there was bick that clode from the wood at him. 'telling no sit his eyes of going sight. and a\n",
      "\n",
      "\n",
      "Temperature: 0.8 \n",
      "\n",
      "in the beginning of the new ship, until they could hear the inhils beyond the great black fast face stood a precious, and rode and since the moon mountains they had been not the sun will; but it had not at frodo and sat up as he broken to that. 'for the light that the shere had ready bree-honour. fo\n",
      "\n",
      "\n",
      "Temperature: 0.8 \n",
      "\n",
      "in the beginning of the oces of the nevers, sam. soon saruman turned a name that the about the certainly head said he had tell the much west. he had your winger. he and though a way, pippin had tumbled on the valight, and when the ridges had much like the guess into the night people, and one that ha\n",
      "\n",
      "\n",
      "Temperature: 0.8 \n",
      "\n",
      "in the beginning was closed cedburg, old and taken to the rings of the precious. then they had terred in the one had that he comes. 'when. there was now so to in and beard and he came to homes; and the most road came to his gate beregond. he was their last short of legolas. and we must be healed and\n",
      "\n",
      "\n",
      "Temperature: 0.8 \n",
      "\n",
      "in the beginning, at last merry, and then the tower of the two drownant and wrought and all ballians was appeared in the hill-day. the chief sam sam stood and had been but in his head, and there's only expectable and lost sam, a news of our arms to come in him. now she looked at that. yet all things\n",
      "\n",
      "\n",
      "Temperature: 1.0 \n",
      "\n",
      "in the beginning was there upon bilbo of returned hobbithel that they fell where they could frodo become but by a thing of a day of the shire, but great end that sam still put it upon the wind the arms and on the world that the ground they felt all would well, were the much was and the shadows of th\n",
      "\n",
      "\n",
      "Temperature: 1.0 \n",
      "\n",
      "in the beginning of some marks. but they was the country of his fear and he should all were from them and sam in the distance, who lay: 'sam looked me to make, getting him from delloner. but you must not don't way: the shire was as his last sam say. 'well, not to run one you going of the confitest i\n",
      "\n",
      "\n",
      "Temperature: 1.0 \n",
      "\n",
      "in the beginning and the hobbits sam, and and with a while the passage and a fit by, in a while all did very began, but the hobbits lifted at the throne with flounder from the walls of the right figure of both the wind; but they grew and beast of all waped down what he was the boss of some long last\n",
      "\n",
      "\n",
      "Temperature: 1.0 \n",
      "\n",
      "in the beginning.' 'well, if we do not ready the promise when the miller small rressed one hobbits in the great gate on isengard. he stay if the boats were always up and he called some basin. 'and your much was one westward has goes by him, what got he' do,' she he said. 'i'm passed before the rings\n",
      "\n",
      "\n",
      "Temperature: 1.0 \n",
      "\n",
      "in the beginning, and they've seen to my bare.' then sam reand on the victory and a great fire and frodo. 'much for a bell-deal lost of some things were now with a camp of dush of back. he wished and said: 'well, if even i am not my big end, and after that there was all the big leave, and sam don't \n",
      "\n",
      "\n"
     ]
    }
   ],
   "source": [
    "#generate_text(testing_model, seed = \"The ring\", length = 400)\n",
    "gen_text_length = 300\n",
    "seed_list = [\"In the beginning\"\n",
    "            ]\n",
    "for starting in seed_list:\n",
    "    for temperature in [0.1,.5,.8,1.0]:\n",
    "        for _ in range(5):\n",
    "            print(f\"Temperature: {temperature} \\n\")\n",
    "            generate_text(testing_model, seed = starting.lower(), length = gen_text_length)\n",
    "            print(\"\\n\")\n",
    "\n",
    "        "
   ]
  },
  {
   "cell_type": "code",
   "execution_count": null,
   "metadata": {},
   "outputs": [],
   "source": []
  }
 ],
 "metadata": {
  "colab": {
   "collapsed_sections": [],
   "name": "text_generation_prediction.ipynb",
   "provenance": []
  },
  "kernelspec": {
   "display_name": "Python 3",
   "language": "python",
   "name": "python3"
  },
  "language_info": {
   "codemirror_mode": {
    "name": "ipython",
    "version": 3
   },
   "file_extension": ".py",
   "mimetype": "text/x-python",
   "name": "python",
   "nbconvert_exporter": "python",
   "pygments_lexer": "ipython3",
   "version": "3.7.9"
  },
  "toc": {
   "base_numbering": 1,
   "nav_menu": {},
   "number_sections": true,
   "sideBar": true,
   "skip_h1_title": false,
   "title_cell": "Table of Contents",
   "title_sidebar": "Contents",
   "toc_cell": false,
   "toc_position": {},
   "toc_section_display": true,
   "toc_window_display": false
  }
 },
 "nbformat": 4,
 "nbformat_minor": 1
}
